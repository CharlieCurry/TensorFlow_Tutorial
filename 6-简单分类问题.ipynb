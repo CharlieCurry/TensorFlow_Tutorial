{
 "cells": [
  {
   "cell_type": "markdown",
   "metadata": {},
   "source": [
    "# 简单分类问题\n",
    "\n",
    "利用mnist数据集实现多选一的分类问题"
   ]
  },
  {
   "cell_type": "code",
   "execution_count": 1,
   "metadata": {},
   "outputs": [],
   "source": [
    "import tensorflow as tf\n",
    "from tensorflow.examples.tutorials.mnist import input_data"
   ]
  },
  {
   "cell_type": "markdown",
   "metadata": {},
   "source": [
    "载入数据集"
   ]
  },
  {
   "cell_type": "code",
   "execution_count": 2,
   "metadata": {},
   "outputs": [
    {
     "name": "stdout",
     "output_type": "stream",
     "text": [
      "WARNING:tensorflow:From <ipython-input-2-c72d5080472c>:1: read_data_sets (from tensorflow.contrib.learn.python.learn.datasets.mnist) is deprecated and will be removed in a future version.\n",
      "Instructions for updating:\n",
      "Please use alternatives such as official/mnist/dataset.py from tensorflow/models.\n",
      "WARNING:tensorflow:From D:\\env\\anaconda\\envs\\tensorflow\\lib\\site-packages\\tensorflow\\contrib\\learn\\python\\learn\\datasets\\mnist.py:260: maybe_download (from tensorflow.contrib.learn.python.learn.datasets.base) is deprecated and will be removed in a future version.\n",
      "Instructions for updating:\n",
      "Please write your own downloading logic.\n",
      "WARNING:tensorflow:From D:\\env\\anaconda\\envs\\tensorflow\\lib\\site-packages\\tensorflow\\contrib\\learn\\python\\learn\\datasets\\mnist.py:262: extract_images (from tensorflow.contrib.learn.python.learn.datasets.mnist) is deprecated and will be removed in a future version.\n",
      "Instructions for updating:\n",
      "Please use tf.data to implement this functionality.\n",
      "Extracting MNIST\\train-images-idx3-ubyte.gz\n",
      "WARNING:tensorflow:From D:\\env\\anaconda\\envs\\tensorflow\\lib\\site-packages\\tensorflow\\contrib\\learn\\python\\learn\\datasets\\mnist.py:267: extract_labels (from tensorflow.contrib.learn.python.learn.datasets.mnist) is deprecated and will be removed in a future version.\n",
      "Instructions for updating:\n",
      "Please use tf.data to implement this functionality.\n",
      "Extracting MNIST\\train-labels-idx1-ubyte.gz\n",
      "WARNING:tensorflow:From D:\\env\\anaconda\\envs\\tensorflow\\lib\\site-packages\\tensorflow\\contrib\\learn\\python\\learn\\datasets\\mnist.py:110: dense_to_one_hot (from tensorflow.contrib.learn.python.learn.datasets.mnist) is deprecated and will be removed in a future version.\n",
      "Instructions for updating:\n",
      "Please use tf.one_hot on tensors.\n",
      "Extracting MNIST\\t10k-images-idx3-ubyte.gz\n",
      "Extracting MNIST\\t10k-labels-idx1-ubyte.gz\n",
      "WARNING:tensorflow:From D:\\env\\anaconda\\envs\\tensorflow\\lib\\site-packages\\tensorflow\\contrib\\learn\\python\\learn\\datasets\\mnist.py:290: DataSet.__init__ (from tensorflow.contrib.learn.python.learn.datasets.mnist) is deprecated and will be removed in a future version.\n",
      "Instructions for updating:\n",
      "Please use alternatives such as official/mnist/dataset.py from tensorflow/models.\n"
     ]
    }
   ],
   "source": [
    "mnist = input_data.read_data_sets(\"MNIST\",one_hot=True)"
   ]
  },
  {
   "cell_type": "markdown",
   "metadata": {},
   "source": [
    "设置batch_size的大小"
   ]
  },
  {
   "cell_type": "code",
   "execution_count": 3,
   "metadata": {},
   "outputs": [],
   "source": [
    "batch_size = 50\n",
    "n_batchs = mnist.train.num_examples // batch_size"
   ]
  },
  {
   "cell_type": "code",
   "execution_count": 4,
   "metadata": {},
   "outputs": [
    {
     "data": {
      "text/plain": [
       "1100"
      ]
     },
     "execution_count": 4,
     "metadata": {},
     "output_type": "execute_result"
    }
   ],
   "source": [
    "n_batchs"
   ]
  },
  {
   "cell_type": "markdown",
   "metadata": {},
   "source": [
    "## 定义两个placeholder作为数据的入口"
   ]
  },
  {
   "cell_type": "code",
   "execution_count": 5,
   "metadata": {},
   "outputs": [],
   "source": [
    "x = tf.placeholder(tf.float32, [None, 784],name=\"x-input\")\n",
    "y = tf.placeholder(tf.float32, [None, 10], name=\"y-input\")"
   ]
  },
  {
   "cell_type": "code",
   "execution_count": 6,
   "metadata": {},
   "outputs": [
    {
     "data": {
      "text/plain": [
       "(<tf.Tensor 'x-input:0' shape=(?, 784) dtype=float32>,\n",
       " <tf.Tensor 'y-input:0' shape=(?, 10) dtype=float32>)"
      ]
     },
     "execution_count": 6,
     "metadata": {},
     "output_type": "execute_result"
    }
   ],
   "source": [
    "x,y"
   ]
  },
  {
   "cell_type": "markdown",
   "metadata": {},
   "source": [
    "## 创建隐层网络"
   ]
  },
  {
   "cell_type": "code",
   "execution_count": 7,
   "metadata": {},
   "outputs": [],
   "source": [
    "w = tf.Variable(tf.zeros([784, 10]))"
   ]
  },
  {
   "cell_type": "code",
   "execution_count": 8,
   "metadata": {},
   "outputs": [
    {
     "data": {
      "text/plain": [
       "<tf.Variable 'Variable:0' shape=(784, 10) dtype=float32_ref>"
      ]
     },
     "execution_count": 8,
     "metadata": {},
     "output_type": "execute_result"
    }
   ],
   "source": [
    "w"
   ]
  },
  {
   "cell_type": "code",
   "execution_count": 9,
   "metadata": {},
   "outputs": [],
   "source": [
    "b = tf.Variable(tf.zeros([1,10]))"
   ]
  },
  {
   "cell_type": "code",
   "execution_count": 10,
   "metadata": {},
   "outputs": [
    {
     "data": {
      "text/plain": [
       "<tf.Variable 'Variable_1:0' shape=(1, 10) dtype=float32_ref>"
      ]
     },
     "execution_count": 10,
     "metadata": {},
     "output_type": "execute_result"
    }
   ],
   "source": [
    "b"
   ]
  },
  {
   "cell_type": "code",
   "execution_count": 11,
   "metadata": {},
   "outputs": [],
   "source": [
    "prediction = tf.nn.softmax(tf.matmul(x, w) + b)"
   ]
  },
  {
   "cell_type": "code",
   "execution_count": 12,
   "metadata": {},
   "outputs": [
    {
     "data": {
      "text/plain": [
       "<tf.Tensor 'Softmax:0' shape=(?, 10) dtype=float32>"
      ]
     },
     "execution_count": 12,
     "metadata": {},
     "output_type": "execute_result"
    }
   ],
   "source": [
    "prediction"
   ]
  },
  {
   "cell_type": "markdown",
   "metadata": {},
   "source": [
    "## 创建交叉熵代价函数"
   ]
  },
  {
   "cell_type": "code",
   "execution_count": 13,
   "metadata": {},
   "outputs": [
    {
     "name": "stdout",
     "output_type": "stream",
     "text": [
      "WARNING:tensorflow:From <ipython-input-13-94009a686e79>:1: softmax_cross_entropy_with_logits (from tensorflow.python.ops.nn_ops) is deprecated and will be removed in a future version.\n",
      "Instructions for updating:\n",
      "\n",
      "Future major versions of TensorFlow will allow gradients to flow\n",
      "into the labels input on backprop by default.\n",
      "\n",
      "See `tf.nn.softmax_cross_entropy_with_logits_v2`.\n",
      "\n"
     ]
    }
   ],
   "source": [
    "loss = tf.reduce_mean(tf.nn.softmax_cross_entropy_with_logits(logits=prediction, labels=y))"
   ]
  },
  {
   "cell_type": "markdown",
   "metadata": {},
   "source": [
    "## 定义优化器"
   ]
  },
  {
   "cell_type": "code",
   "execution_count": 14,
   "metadata": {},
   "outputs": [],
   "source": [
    "train_step = tf.train.GradientDescentOptimizer(0.01).minimize(loss)"
   ]
  },
  {
   "cell_type": "code",
   "execution_count": 15,
   "metadata": {},
   "outputs": [
    {
     "data": {
      "text/plain": [
       "<tf.Operation 'GradientDescent' type=NoOp>"
      ]
     },
     "execution_count": 15,
     "metadata": {},
     "output_type": "execute_result"
    }
   ],
   "source": [
    "train_step"
   ]
  },
  {
   "cell_type": "markdown",
   "metadata": {},
   "source": [
    "## 初始化全局变量"
   ]
  },
  {
   "cell_type": "code",
   "execution_count": 16,
   "metadata": {},
   "outputs": [],
   "source": [
    "init = tf.global_variables_initializer()"
   ]
  },
  {
   "cell_type": "markdown",
   "metadata": {},
   "source": [
    "## 计算准确率"
   ]
  },
  {
   "cell_type": "code",
   "execution_count": 17,
   "metadata": {},
   "outputs": [],
   "source": [
    "correct_prediction =  tf.equal(tf.argmax(prediction, 1), tf.argmax(y, 1))\n",
    "accuarcy = tf.reduce_mean(tf.cast(correct_prediction, tf.float32))"
   ]
  },
  {
   "cell_type": "code",
   "execution_count": 18,
   "metadata": {},
   "outputs": [
    {
     "data": {
      "text/plain": [
       "(<tf.Tensor 'Equal:0' shape=(?,) dtype=bool>,\n",
       " <tf.Tensor 'Mean_1:0' shape=() dtype=float32>)"
      ]
     },
     "execution_count": 18,
     "metadata": {},
     "output_type": "execute_result"
    }
   ],
   "source": [
    "correct_prediction, accuarcy"
   ]
  },
  {
   "cell_type": "markdown",
   "metadata": {},
   "source": [
    "## 训练"
   ]
  },
  {
   "cell_type": "code",
   "execution_count": 19,
   "metadata": {},
   "outputs": [],
   "source": [
    "gpu_options = tf.GPUOptions(per_process_gpu_memory_fraction=0.333)  \n",
    "sess = tf.Session(config=tf.ConfigProto(gpu_options=gpu_options))  "
   ]
  },
  {
   "cell_type": "code",
   "execution_count": 20,
   "metadata": {},
   "outputs": [],
   "source": [
    "sess.run(init)"
   ]
  },
  {
   "cell_type": "code",
   "execution_count": 21,
   "metadata": {},
   "outputs": [
    {
     "name": "stdout",
     "output_type": "stream",
     "text": [
      "Iter:  0 acc:  0.6248\n",
      "Iter:  1 acc:  0.7442\n",
      "Iter:  2 acc:  0.798\n",
      "Iter:  3 acc:  0.8056\n",
      "Iter:  4 acc:  0.8116\n",
      "Iter:  5 acc:  0.8158\n",
      "Iter:  6 acc:  0.8187\n",
      "Iter:  7 acc:  0.8214\n",
      "Iter:  8 acc:  0.8235\n",
      "Iter:  9 acc:  0.825\n",
      "Iter:  10 acc:  0.8268\n",
      "Iter:  11 acc:  0.8277\n",
      "Iter:  12 acc:  0.8305\n",
      "Iter:  13 acc:  0.8461\n",
      "Iter:  14 acc:  0.8624\n",
      "Iter:  15 acc:  0.8726\n",
      "Iter:  16 acc:  0.8779\n",
      "Iter:  17 acc:  0.8834\n",
      "Iter:  18 acc:  0.8885\n",
      "Iter:  19 acc:  0.8914\n",
      "Iter:  20 acc:  0.8941\n",
      "Iter:  21 acc:  0.8959\n",
      "Iter:  22 acc:  0.8959\n",
      "Iter:  23 acc:  0.8978\n",
      "Iter:  24 acc:  0.8991\n",
      "Iter:  25 acc:  0.8992\n",
      "Iter:  26 acc:  0.9\n",
      "Iter:  27 acc:  0.9003\n",
      "Iter:  28 acc:  0.9005\n",
      "Iter:  29 acc:  0.901\n",
      "Iter:  30 acc:  0.9015\n",
      "Iter:  31 acc:  0.9022\n",
      "Iter:  32 acc:  0.9026\n",
      "Iter:  33 acc:  0.9035\n",
      "Iter:  34 acc:  0.9037\n",
      "Iter:  35 acc:  0.9043\n",
      "Iter:  36 acc:  0.9045\n",
      "Iter:  37 acc:  0.905\n",
      "Iter:  38 acc:  0.9054\n",
      "Iter:  39 acc:  0.9053\n",
      "Iter:  40 acc:  0.9056\n",
      "Iter:  41 acc:  0.9063\n",
      "Iter:  42 acc:  0.9069\n",
      "Iter:  43 acc:  0.9065\n",
      "Iter:  44 acc:  0.9078\n",
      "Iter:  45 acc:  0.9075\n",
      "Iter:  46 acc:  0.9082\n",
      "Iter:  47 acc:  0.9086\n",
      "Iter:  48 acc:  0.9088\n",
      "Iter:  49 acc:  0.9091\n",
      "Iter:  50 acc:  0.9091\n",
      "Iter:  51 acc:  0.9091\n",
      "Iter:  52 acc:  0.9089\n",
      "Iter:  53 acc:  0.909\n",
      "Iter:  54 acc:  0.9094\n",
      "Iter:  55 acc:  0.9095\n",
      "Iter:  56 acc:  0.9092\n",
      "Iter:  57 acc:  0.9094\n",
      "Iter:  58 acc:  0.9093\n",
      "Iter:  59 acc:  0.9094\n",
      "Iter:  60 acc:  0.9096\n",
      "Iter:  61 acc:  0.9097\n",
      "Iter:  62 acc:  0.91\n",
      "Iter:  63 acc:  0.9103\n",
      "Iter:  64 acc:  0.9104\n",
      "Iter:  65 acc:  0.9109\n",
      "Iter:  66 acc:  0.9105\n",
      "Iter:  67 acc:  0.9112\n",
      "Iter:  68 acc:  0.9114\n",
      "Iter:  69 acc:  0.9113\n",
      "Iter:  70 acc:  0.9116\n",
      "Iter:  71 acc:  0.9118\n",
      "Iter:  72 acc:  0.9119\n",
      "Iter:  73 acc:  0.9123\n",
      "Iter:  74 acc:  0.9126\n",
      "Iter:  75 acc:  0.9126\n",
      "Iter:  76 acc:  0.913\n",
      "Iter:  77 acc:  0.913\n",
      "Iter:  78 acc:  0.9132\n",
      "Iter:  79 acc:  0.9134\n",
      "Iter:  80 acc:  0.9133\n",
      "Iter:  81 acc:  0.9137\n",
      "Iter:  82 acc:  0.9133\n",
      "Iter:  83 acc:  0.914\n",
      "Iter:  84 acc:  0.9141\n",
      "Iter:  85 acc:  0.9143\n",
      "Iter:  86 acc:  0.9145\n",
      "Iter:  87 acc:  0.9145\n",
      "Iter:  88 acc:  0.9151\n",
      "Iter:  89 acc:  0.9149\n",
      "Iter:  90 acc:  0.9154\n",
      "Iter:  91 acc:  0.9152\n",
      "Iter:  92 acc:  0.9154\n",
      "Iter:  93 acc:  0.9153\n",
      "Iter:  94 acc:  0.9153\n",
      "Iter:  95 acc:  0.9154\n",
      "Iter:  96 acc:  0.9158\n",
      "Iter:  97 acc:  0.9158\n",
      "Iter:  98 acc:  0.9158\n",
      "Iter:  99 acc:  0.9158\n",
      "Iter:  100 acc:  0.9161\n",
      "Iter:  101 acc:  0.9165\n",
      "Iter:  102 acc:  0.9164\n",
      "Iter:  103 acc:  0.9167\n",
      "Iter:  104 acc:  0.917\n",
      "Iter:  105 acc:  0.9169\n",
      "Iter:  106 acc:  0.917\n",
      "Iter:  107 acc:  0.917\n",
      "Iter:  108 acc:  0.9173\n",
      "Iter:  109 acc:  0.9174\n",
      "Iter:  110 acc:  0.9175\n",
      "Iter:  111 acc:  0.9177\n",
      "Iter:  112 acc:  0.9174\n",
      "Iter:  113 acc:  0.9178\n",
      "Iter:  114 acc:  0.918\n",
      "Iter:  115 acc:  0.9177\n",
      "Iter:  116 acc:  0.9178\n",
      "Iter:  117 acc:  0.9181\n",
      "Iter:  118 acc:  0.918\n",
      "Iter:  119 acc:  0.9179\n",
      "Iter:  120 acc:  0.9179\n",
      "Iter:  121 acc:  0.9181\n",
      "Iter:  122 acc:  0.9183\n",
      "Iter:  123 acc:  0.9182\n",
      "Iter:  124 acc:  0.9188\n",
      "Iter:  125 acc:  0.9188\n",
      "Iter:  126 acc:  0.9188\n",
      "Iter:  127 acc:  0.9186\n",
      "Iter:  128 acc:  0.9191\n",
      "Iter:  129 acc:  0.919\n",
      "Iter:  130 acc:  0.9189\n",
      "Iter:  131 acc:  0.9194\n",
      "Iter:  132 acc:  0.9193\n",
      "Iter:  133 acc:  0.9195\n",
      "Iter:  134 acc:  0.9193\n",
      "Iter:  135 acc:  0.9193\n",
      "Iter:  136 acc:  0.9195\n",
      "Iter:  137 acc:  0.9193\n",
      "Iter:  138 acc:  0.9194\n",
      "Iter:  139 acc:  0.9193\n",
      "Iter:  140 acc:  0.9196\n",
      "Iter:  141 acc:  0.9198\n",
      "Iter:  142 acc:  0.9199\n",
      "Iter:  143 acc:  0.9198\n",
      "Iter:  144 acc:  0.9199\n",
      "Iter:  145 acc:  0.9199\n",
      "Iter:  146 acc:  0.9197\n",
      "Iter:  147 acc:  0.9201\n",
      "Iter:  148 acc:  0.9197\n",
      "Iter:  149 acc:  0.92\n",
      "Iter:  150 acc:  0.9196\n",
      "Iter:  151 acc:  0.9199\n",
      "Iter:  152 acc:  0.92\n",
      "Iter:  153 acc:  0.9199\n",
      "Iter:  154 acc:  0.9203\n",
      "Iter:  155 acc:  0.9202\n",
      "Iter:  156 acc:  0.9201\n",
      "Iter:  157 acc:  0.9202\n",
      "Iter:  158 acc:  0.9202\n",
      "Iter:  159 acc:  0.9202\n",
      "Iter:  160 acc:  0.9204\n",
      "Iter:  161 acc:  0.9205\n",
      "Iter:  162 acc:  0.9207\n",
      "Iter:  163 acc:  0.9207\n",
      "Iter:  164 acc:  0.9205\n",
      "Iter:  165 acc:  0.9208\n",
      "Iter:  166 acc:  0.9208\n",
      "Iter:  167 acc:  0.9207\n",
      "Iter:  168 acc:  0.9208\n",
      "Iter:  169 acc:  0.9207\n",
      "Iter:  170 acc:  0.9208\n",
      "Iter:  171 acc:  0.9206\n",
      "Iter:  172 acc:  0.9208\n",
      "Iter:  173 acc:  0.9209\n",
      "Iter:  174 acc:  0.9207\n",
      "Iter:  175 acc:  0.9208\n",
      "Iter:  176 acc:  0.9208\n",
      "Iter:  177 acc:  0.9209\n",
      "Iter:  178 acc:  0.9208\n",
      "Iter:  179 acc:  0.921\n",
      "Iter:  180 acc:  0.921\n",
      "Iter:  181 acc:  0.9209\n",
      "Iter:  182 acc:  0.921\n",
      "Iter:  183 acc:  0.9213\n",
      "Iter:  184 acc:  0.9211\n",
      "Iter:  185 acc:  0.9212\n",
      "Iter:  186 acc:  0.9212\n",
      "Iter:  187 acc:  0.921\n",
      "Iter:  188 acc:  0.921\n",
      "Iter:  189 acc:  0.9213\n",
      "Iter:  190 acc:  0.9214\n",
      "Iter:  191 acc:  0.9212\n",
      "Iter:  192 acc:  0.9212\n",
      "Iter:  193 acc:  0.9213\n",
      "Iter:  194 acc:  0.9215\n",
      "Iter:  195 acc:  0.9216\n",
      "Iter:  196 acc:  0.9214\n",
      "Iter:  197 acc:  0.9217\n",
      "Iter:  198 acc:  0.9215\n",
      "Iter:  199 acc:  0.9215\n"
     ]
    }
   ],
   "source": [
    "for epoch in range(200):\n",
    "    for batch in range(n_batchs):\n",
    "        batch_x, batch_y = mnist.train.next_batch(batch_size)\n",
    "        sess.run([train_step],{x:batch_x, y: batch_y})\n",
    "    acc = sess.run(accuarcy, feed_dict = {x:mnist.test.images, y:mnist.test.labels})\n",
    "    print(\"Iter: \", epoch, \"acc: \", acc)"
   ]
  },
  {
   "cell_type": "code",
   "execution_count": null,
   "metadata": {},
   "outputs": [],
   "source": []
  },
  {
   "cell_type": "code",
   "execution_count": null,
   "metadata": {},
   "outputs": [],
   "source": []
  },
  {
   "cell_type": "code",
   "execution_count": null,
   "metadata": {},
   "outputs": [],
   "source": []
  }
 ],
 "metadata": {
  "kernelspec": {
   "display_name": "Python [conda env:tensorflow] *",
   "language": "python",
   "name": "conda-env-tensorflow-py"
  },
  "language_info": {
   "codemirror_mode": {
    "name": "ipython",
    "version": 3
   },
   "file_extension": ".py",
   "mimetype": "text/x-python",
   "name": "python",
   "nbconvert_exporter": "python",
   "pygments_lexer": "ipython3",
   "version": "3.6.10"
  }
 },
 "nbformat": 4,
 "nbformat_minor": 4
}
