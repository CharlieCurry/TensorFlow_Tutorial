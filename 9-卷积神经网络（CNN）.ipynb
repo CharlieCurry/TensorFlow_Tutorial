{
 "cells": [
  {
   "cell_type": "markdown",
   "metadata": {},
   "source": [
    "# 9-卷积神经网络（CNN）"
   ]
  },
  {
   "cell_type": "markdown",
   "metadata": {},
   "source": [
    "卷积神经网络是一类良好的特征提取器，多用于图像识别领域，现在在自然语言处理领域和语音识别领域也有较为广泛的运用。"
   ]
  },
  {
   "cell_type": "markdown",
   "metadata": {},
   "source": [
    "导包"
   ]
  },
  {
   "cell_type": "code",
   "execution_count": 1,
   "metadata": {},
   "outputs": [],
   "source": [
    "import tensorflow as tf\n",
    "from tensorflow.examples.tutorials.mnist import input_data"
   ]
  },
  {
   "cell_type": "markdown",
   "metadata": {},
   "source": [
    "载入数据"
   ]
  },
  {
   "cell_type": "code",
   "execution_count": 2,
   "metadata": {},
   "outputs": [
    {
     "name": "stdout",
     "output_type": "stream",
     "text": [
      "WARNING:tensorflow:From <ipython-input-2-7ad1921416f6>:1: read_data_sets (from tensorflow.contrib.learn.python.learn.datasets.mnist) is deprecated and will be removed in a future version.\n",
      "Instructions for updating:\n",
      "Please use alternatives such as official/mnist/dataset.py from tensorflow/models.\n",
      "WARNING:tensorflow:From D:\\env\\anaconda\\envs\\tensorflow\\lib\\site-packages\\tensorflow\\contrib\\learn\\python\\learn\\datasets\\mnist.py:260: maybe_download (from tensorflow.contrib.learn.python.learn.datasets.base) is deprecated and will be removed in a future version.\n",
      "Instructions for updating:\n",
      "Please write your own downloading logic.\n",
      "WARNING:tensorflow:From D:\\env\\anaconda\\envs\\tensorflow\\lib\\site-packages\\tensorflow\\contrib\\learn\\python\\learn\\datasets\\mnist.py:262: extract_images (from tensorflow.contrib.learn.python.learn.datasets.mnist) is deprecated and will be removed in a future version.\n",
      "Instructions for updating:\n",
      "Please use tf.data to implement this functionality.\n",
      "Extracting MNIST\\train-images-idx3-ubyte.gz\n",
      "WARNING:tensorflow:From D:\\env\\anaconda\\envs\\tensorflow\\lib\\site-packages\\tensorflow\\contrib\\learn\\python\\learn\\datasets\\mnist.py:267: extract_labels (from tensorflow.contrib.learn.python.learn.datasets.mnist) is deprecated and will be removed in a future version.\n",
      "Instructions for updating:\n",
      "Please use tf.data to implement this functionality.\n",
      "Extracting MNIST\\train-labels-idx1-ubyte.gz\n",
      "WARNING:tensorflow:From D:\\env\\anaconda\\envs\\tensorflow\\lib\\site-packages\\tensorflow\\contrib\\learn\\python\\learn\\datasets\\mnist.py:110: dense_to_one_hot (from tensorflow.contrib.learn.python.learn.datasets.mnist) is deprecated and will be removed in a future version.\n",
      "Instructions for updating:\n",
      "Please use tf.one_hot on tensors.\n",
      "Extracting MNIST\\t10k-images-idx3-ubyte.gz\n",
      "Extracting MNIST\\t10k-labels-idx1-ubyte.gz\n",
      "WARNING:tensorflow:From D:\\env\\anaconda\\envs\\tensorflow\\lib\\site-packages\\tensorflow\\contrib\\learn\\python\\learn\\datasets\\mnist.py:290: DataSet.__init__ (from tensorflow.contrib.learn.python.learn.datasets.mnist) is deprecated and will be removed in a future version.\n",
      "Instructions for updating:\n",
      "Please use alternatives such as official/mnist/dataset.py from tensorflow/models.\n"
     ]
    }
   ],
   "source": [
    "mnist = input_data.read_data_sets(\"MNIST\", one_hot=True)"
   ]
  },
  {
   "cell_type": "markdown",
   "metadata": {},
   "source": [
    "设置batch_size的大小和批次"
   ]
  },
  {
   "cell_type": "code",
   "execution_count": 3,
   "metadata": {},
   "outputs": [],
   "source": [
    "batch_size = 100\n",
    "n_batchs = mnist.train.num_examples // batch_size"
   ]
  },
  {
   "cell_type": "code",
   "execution_count": 4,
   "metadata": {},
   "outputs": [
    {
     "data": {
      "text/plain": [
       "550"
      ]
     },
     "execution_count": 4,
     "metadata": {},
     "output_type": "execute_result"
    }
   ],
   "source": [
    "n_batchs"
   ]
  },
  {
   "cell_type": "markdown",
   "metadata": {},
   "source": [
    "设置权重初始化函数\n",
    "\n",
    "传入shape，返回对应shape的参数，服从高斯分布，0均值，0.1方差"
   ]
  },
  {
   "cell_type": "code",
   "execution_count": 5,
   "metadata": {},
   "outputs": [],
   "source": [
    "def weight_variable(shape):\n",
    "    initial = tf.truncated_normal(shape, stddev=0.1)\n",
    "    return tf.Variable(initial)"
   ]
  },
  {
   "cell_type": "markdown",
   "metadata": {},
   "source": [
    "设置偏执初始化的函数\n",
    "\n",
    "传入shape，返回对应的0.1的参数"
   ]
  },
  {
   "cell_type": "code",
   "execution_count": 6,
   "metadata": {},
   "outputs": [],
   "source": [
    "def biases_vriable(shape):\n",
    "    initial = tf.constant(0.1, shape=shape)\n",
    "    return tf.Variable(initial)"
   ]
  },
  {
   "cell_type": "markdown",
   "metadata": {},
   "source": [
    "定义卷积层函数，用于生成一个对应的卷积操作"
   ]
  },
  {
   "cell_type": "code",
   "execution_count": 7,
   "metadata": {},
   "outputs": [],
   "source": [
    "def  conv2d(x, w):\n",
    "    return tf.nn.conv2d(x, w, strides=[1, 1, 1, 1], padding='SAME')"
   ]
  },
  {
   "cell_type": "markdown",
   "metadata": {},
   "source": [
    "定义$2\\times 2$的池化层"
   ]
  },
  {
   "cell_type": "code",
   "execution_count": 8,
   "metadata": {},
   "outputs": [],
   "source": [
    "def max_pool_2x2(x):\n",
    "    return tf.nn.max_pool(x, ksize=[1, 2, 2, 1], strides=[1, 2, 2, 1], padding='SAME')"
   ]
  },
  {
   "cell_type": "markdown",
   "metadata": {},
   "source": [
    "定义两个placeholder"
   ]
  },
  {
   "cell_type": "code",
   "execution_count": 9,
   "metadata": {},
   "outputs": [],
   "source": [
    "x = tf.placeholder(shape=[None, 784], dtype=tf.float32)\n",
    "y = tf.placeholder(shape=[None, 10], dtype=tf.float32)"
   ]
  },
  {
   "cell_type": "code",
   "execution_count": 10,
   "metadata": {},
   "outputs": [
    {
     "data": {
      "text/plain": [
       "(<tf.Tensor 'Placeholder:0' shape=(?, 784) dtype=float32>,\n",
       " <tf.Tensor 'Placeholder_1:0' shape=(?, 10) dtype=float32>)"
      ]
     },
     "execution_count": 10,
     "metadata": {},
     "output_type": "execute_result"
    }
   ],
   "source": [
    "x,y"
   ]
  },
  {
   "cell_type": "markdown",
   "metadata": {},
   "source": [
    "改变x的shape\n",
    "\n",
    "输入的为1维数据，由于使用2D卷积，所以要将数据转为2D的图像数据"
   ]
  },
  {
   "cell_type": "code",
   "execution_count": 11,
   "metadata": {},
   "outputs": [],
   "source": [
    "x_images = tf.reshape(x, shape=[-1, 28, 28, 1])"
   ]
  },
  {
   "cell_type": "code",
   "execution_count": 12,
   "metadata": {},
   "outputs": [
    {
     "data": {
      "text/plain": [
       "<tf.Tensor 'Reshape:0' shape=(?, 28, 28, 1) dtype=float32>"
      ]
     },
     "execution_count": 12,
     "metadata": {},
     "output_type": "execute_result"
    }
   ],
   "source": [
    "x_images"
   ]
  },
  {
   "cell_type": "markdown",
   "metadata": {},
   "source": [
    "搭建卷积层"
   ]
  },
  {
   "cell_type": "code",
   "execution_count": 13,
   "metadata": {},
   "outputs": [],
   "source": [
    "w_conv1 = weight_variable([5, 5, 1, 32])\n",
    "b_conv1 = biases_vriable([32])\n",
    "\n",
    "h_conv1 = tf.nn.relu(conv2d(x_images, w_conv1) + b_conv1)\n",
    "h_pool1 = max_pool_2x2(h_conv1)\n",
    "\n",
    "w_conv2 = weight_variable([5, 5, 32, 64])\n",
    "b_conv2 = biases_vriable([64])\n",
    "\n",
    "h_conv2 = tf.nn.relu(conv2d(h_pool1, w_conv2) + b_conv2)\n",
    "h_pool2 = max_pool_2x2(h_conv2)"
   ]
  },
  {
   "cell_type": "code",
   "execution_count": 14,
   "metadata": {},
   "outputs": [
    {
     "data": {
      "text/plain": [
       "(<tf.Variable 'Variable:0' shape=(5, 5, 1, 32) dtype=float32_ref>,\n",
       " <tf.Variable 'Variable_1:0' shape=(32,) dtype=float32_ref>)"
      ]
     },
     "execution_count": 14,
     "metadata": {},
     "output_type": "execute_result"
    }
   ],
   "source": [
    "w_conv1, b_conv1"
   ]
  },
  {
   "cell_type": "code",
   "execution_count": 15,
   "metadata": {},
   "outputs": [
    {
     "data": {
      "text/plain": [
       "(<tf.Tensor 'Relu:0' shape=(?, 28, 28, 32) dtype=float32>,\n",
       " <tf.Tensor 'MaxPool:0' shape=(?, 14, 14, 32) dtype=float32>)"
      ]
     },
     "execution_count": 15,
     "metadata": {},
     "output_type": "execute_result"
    }
   ],
   "source": [
    "h_conv1,h_pool1"
   ]
  },
  {
   "cell_type": "code",
   "execution_count": 16,
   "metadata": {},
   "outputs": [
    {
     "data": {
      "text/plain": [
       "(<tf.Variable 'Variable_2:0' shape=(5, 5, 32, 64) dtype=float32_ref>,\n",
       " <tf.Variable 'Variable_3:0' shape=(64,) dtype=float32_ref>)"
      ]
     },
     "execution_count": 16,
     "metadata": {},
     "output_type": "execute_result"
    }
   ],
   "source": [
    "w_conv2, b_conv2"
   ]
  },
  {
   "cell_type": "code",
   "execution_count": 17,
   "metadata": {},
   "outputs": [
    {
     "data": {
      "text/plain": [
       "(<tf.Tensor 'Relu_1:0' shape=(?, 14, 14, 64) dtype=float32>,\n",
       " <tf.Tensor 'MaxPool_1:0' shape=(?, 7, 7, 64) dtype=float32>)"
      ]
     },
     "execution_count": 17,
     "metadata": {},
     "output_type": "execute_result"
    }
   ],
   "source": [
    "h_conv2,h_pool2"
   ]
  },
  {
   "cell_type": "markdown",
   "metadata": {},
   "source": [
    "搭建全连接网络\n",
    "\n",
    "同时将池化层的输出reshape为全联接的输入，并输入到网络中"
   ]
  },
  {
   "cell_type": "code",
   "execution_count": 18,
   "metadata": {},
   "outputs": [],
   "source": [
    "w_fc1 = weight_variable([7*7*64, 1024])\n",
    "b_fc1 = biases_vriable([1024])\n",
    "\n",
    "h_pool2_flat = tf.reshape(h_pool2, [-1, w_fc1.shape[0]])\n",
    "h_fc1 = tf.nn.tanh(tf.matmul(h_pool2_flat, w_fc1) + b_fc1)"
   ]
  },
  {
   "cell_type": "markdown",
   "metadata": {},
   "source": [
    "设置Dropout"
   ]
  },
  {
   "cell_type": "code",
   "execution_count": 19,
   "metadata": {},
   "outputs": [],
   "source": [
    "keep_prob = tf.placeholder(tf.float32)\n",
    "h_fc1_drop = tf.nn.dropout(h_fc1, keep_prob)"
   ]
  },
  {
   "cell_type": "markdown",
   "metadata": {},
   "source": [
    "设置输出层"
   ]
  },
  {
   "cell_type": "code",
   "execution_count": 20,
   "metadata": {},
   "outputs": [],
   "source": [
    "w_fc2 = weight_variable([1024, 10])\n",
    "b_fc2 = biases_vriable([10])\n",
    "\n",
    "prediction = tf.nn.softmax(tf.matmul(h_fc1_drop, w_fc2) + b_fc2)"
   ]
  },
  {
   "cell_type": "markdown",
   "metadata": {},
   "source": [
    "定义损失函数与优化器"
   ]
  },
  {
   "cell_type": "code",
   "execution_count": 21,
   "metadata": {},
   "outputs": [
    {
     "name": "stdout",
     "output_type": "stream",
     "text": [
      "WARNING:tensorflow:From <ipython-input-21-94009a686e79>:1: softmax_cross_entropy_with_logits (from tensorflow.python.ops.nn_ops) is deprecated and will be removed in a future version.\n",
      "Instructions for updating:\n",
      "\n",
      "Future major versions of TensorFlow will allow gradients to flow\n",
      "into the labels input on backprop by default.\n",
      "\n",
      "See `tf.nn.softmax_cross_entropy_with_logits_v2`.\n",
      "\n"
     ]
    }
   ],
   "source": [
    " loss = tf.reduce_mean(tf.nn.softmax_cross_entropy_with_logits(logits=prediction, labels=y))"
   ]
  },
  {
   "cell_type": "code",
   "execution_count": 22,
   "metadata": {},
   "outputs": [],
   "source": [
    "train_step = tf.train.AdamOptimizer(0.001).minimize(loss)"
   ]
  },
  {
   "cell_type": "markdown",
   "metadata": {},
   "source": [
    "定义测评结果"
   ]
  },
  {
   "cell_type": "code",
   "execution_count": 23,
   "metadata": {},
   "outputs": [],
   "source": [
    "correct_prediction = tf.equal(tf.argmax(prediction, 1), tf.argmax(y, 1))\n",
    "accuracy = tf.reduce_mean(tf.cast(correct_prediction, tf.float32))"
   ]
  },
  {
   "cell_type": "code",
   "execution_count": 24,
   "metadata": {},
   "outputs": [],
   "source": [
    "init = tf.global_variables_initializer()"
   ]
  },
  {
   "cell_type": "markdown",
   "metadata": {},
   "source": [
    "训练"
   ]
  },
  {
   "cell_type": "code",
   "execution_count": 25,
   "metadata": {},
   "outputs": [
    {
     "name": "stdout",
     "output_type": "stream",
     "text": [
      "Iter: 0 Accuracy: 0.0982 Loss: 2.36295\n",
      "Iter: 1 Accuracy: 0.0982 Loss: 2.36295\n",
      "Iter: 2 Accuracy: 0.0982 Loss: 2.36295\n",
      "Iter: 3 Accuracy: 0.0982 Loss: 2.36295\n",
      "Iter: 4 Accuracy: 0.0982 Loss: 2.36295\n",
      "Iter: 5 Accuracy: 0.8835 Loss: 1.5764903\n",
      "Iter: 6 Accuracy: 0.8892 Loss: 1.5702636\n",
      "Iter: 7 Accuracy: 0.8931 Loss: 1.5673627\n",
      "Iter: 8 Accuracy: 0.8921 Loss: 1.5675625\n",
      "Iter: 9 Accuracy: 0.9855 Loss: 1.4760377\n",
      "Iter: 10 Accuracy: 0.9876 Loss: 1.4740084\n",
      "Iter: 11 Accuracy: 0.9894 Loss: 1.4724655\n",
      "Iter: 12 Accuracy: 0.9899 Loss: 1.471707\n",
      "Iter: 13 Accuracy: 0.988 Loss: 1.472945\n",
      "Iter: 14 Accuracy: 0.9914 Loss: 1.4700143\n",
      "Iter: 15 Accuracy: 0.9905 Loss: 1.4708084\n",
      "Iter: 16 Accuracy: 0.9912 Loss: 1.4701136\n",
      "Iter: 17 Accuracy: 0.9896 Loss: 1.4714066\n",
      "Iter: 18 Accuracy: 0.9909 Loss: 1.4702921\n",
      "Iter: 19 Accuracy: 0.9916 Loss: 1.4701236\n",
      "Iter: 20 Accuracy: 0.9904 Loss: 1.4708687\n",
      "Iter: 21 Accuracy: 0.9918 Loss: 1.469631\n",
      "Iter: 22 Accuracy: 0.9893 Loss: 1.4720784\n",
      "Iter: 23 Accuracy: 0.9917 Loss: 1.4694481\n",
      "Iter: 24 Accuracy: 0.9923 Loss: 1.468865\n",
      "Iter: 25 Accuracy: 0.9926 Loss: 1.4685831\n",
      "Iter: 26 Accuracy: 0.9917 Loss: 1.469691\n",
      "Iter: 27 Accuracy: 0.9913 Loss: 1.4693371\n",
      "Iter: 28 Accuracy: 0.992 Loss: 1.4688017\n",
      "Iter: 29 Accuracy: 0.9918 Loss: 1.4696047\n",
      "Iter: 30 Accuracy: 0.9927 Loss: 1.4682223\n",
      "Iter: 31 Accuracy: 0.9916 Loss: 1.4696176\n",
      "Iter: 32 Accuracy: 0.9919 Loss: 1.4691643\n",
      "Iter: 33 Accuracy: 0.992 Loss: 1.4692395\n",
      "Iter: 34 Accuracy: 0.9911 Loss: 1.4699064\n",
      "Iter: 35 Accuracy: 0.993 Loss: 1.4682192\n",
      "Iter: 36 Accuracy: 0.9922 Loss: 1.4689758\n",
      "Iter: 37 Accuracy: 0.9927 Loss: 1.4686916\n",
      "Iter: 38 Accuracy: 0.993 Loss: 1.4683049\n",
      "Iter: 39 Accuracy: 0.9895 Loss: 1.47147\n",
      "Iter: 40 Accuracy: 0.9926 Loss: 1.4685959\n",
      "Iter: 41 Accuracy: 0.9908 Loss: 1.4705926\n",
      "Iter: 42 Accuracy: 0.9916 Loss: 1.4693677\n",
      "Iter: 43 Accuracy: 0.991 Loss: 1.4702978\n",
      "Iter: 44 Accuracy: 0.9917 Loss: 1.4695759\n",
      "Iter: 45 Accuracy: 0.9921 Loss: 1.468935\n",
      "Iter: 46 Accuracy: 0.9936 Loss: 1.4680727\n",
      "Iter: 47 Accuracy: 0.9925 Loss: 1.468688\n",
      "Iter: 48 Accuracy: 0.992 Loss: 1.4689504\n",
      "Iter: 49 Accuracy: 0.9913 Loss: 1.4698808\n",
      "Iter: 50 Accuracy: 0.9927 Loss: 1.4684602\n",
      "Iter: 51 Accuracy: 0.9922 Loss: 1.4690049\n",
      "Iter: 52 Accuracy: 0.992 Loss: 1.469392\n",
      "Iter: 53 Accuracy: 0.9924 Loss: 1.4684634\n",
      "Iter: 54 Accuracy: 0.9931 Loss: 1.4682443\n",
      "Iter: 55 Accuracy: 0.993 Loss: 1.4683098\n",
      "Iter: 56 Accuracy: 0.993 Loss: 1.4681729\n",
      "Iter: 57 Accuracy: 0.992 Loss: 1.4691969\n",
      "Iter: 58 Accuracy: 0.9917 Loss: 1.4693741\n",
      "Iter: 59 Accuracy: 0.9927 Loss: 1.4688383\n",
      "Iter: 60 Accuracy: 0.9924 Loss: 1.4688497\n",
      "Iter: 61 Accuracy: 0.9915 Loss: 1.4695041\n",
      "Iter: 62 Accuracy: 0.9918 Loss: 1.4695274\n",
      "Iter: 63 Accuracy: 0.993 Loss: 1.468269\n",
      "Iter: 64 Accuracy: 0.9924 Loss: 1.4687413\n",
      "Iter: 65 Accuracy: 0.9912 Loss: 1.4698144\n",
      "Iter: 66 Accuracy: 0.9927 Loss: 1.4683989\n",
      "Iter: 67 Accuracy: 0.992 Loss: 1.4691476\n",
      "Iter: 68 Accuracy: 0.9916 Loss: 1.4694184\n",
      "Iter: 69 Accuracy: 0.9902 Loss: 1.4709783\n",
      "Iter: 70 Accuracy: 0.9923 Loss: 1.4687644\n",
      "Iter: 71 Accuracy: 0.9917 Loss: 1.4695834\n",
      "Iter: 72 Accuracy: 0.9928 Loss: 1.4684258\n",
      "Iter: 73 Accuracy: 0.9931 Loss: 1.4682544\n",
      "Iter: 74 Accuracy: 0.9925 Loss: 1.4685503\n",
      "Iter: 75 Accuracy: 0.9929 Loss: 1.468345\n",
      "Iter: 76 Accuracy: 0.9926 Loss: 1.4685744\n",
      "Iter: 77 Accuracy: 0.9909 Loss: 1.4700933\n",
      "Iter: 78 Accuracy: 0.9927 Loss: 1.4685769\n",
      "Iter: 79 Accuracy: 0.9922 Loss: 1.468807\n",
      "Iter: 80 Accuracy: 0.9918 Loss: 1.4692094\n",
      "Iter: 81 Accuracy: 0.9927 Loss: 1.4685178\n",
      "Iter: 82 Accuracy: 0.9931 Loss: 1.4680092\n",
      "Iter: 83 Accuracy: 0.9913 Loss: 1.4697938\n",
      "Iter: 84 Accuracy: 0.9923 Loss: 1.4685309\n",
      "Iter: 85 Accuracy: 0.9925 Loss: 1.4687011\n",
      "Iter: 86 Accuracy: 0.9922 Loss: 1.4690137\n",
      "Iter: 87 Accuracy: 0.9924 Loss: 1.4688506\n",
      "Iter: 88 Accuracy: 0.9924 Loss: 1.4688292\n",
      "Iter: 89 Accuracy: 0.993 Loss: 1.4679503\n",
      "Iter: 90 Accuracy: 0.992 Loss: 1.4690268\n",
      "Iter: 91 Accuracy: 0.992 Loss: 1.4691089\n",
      "Iter: 92 Accuracy: 0.993 Loss: 1.4680967\n",
      "Iter: 93 Accuracy: 0.9929 Loss: 1.4682053\n",
      "Iter: 94 Accuracy: 0.9924 Loss: 1.4686698\n",
      "Iter: 95 Accuracy: 0.9927 Loss: 1.4684608\n",
      "Iter: 96 Accuracy: 0.9922 Loss: 1.4687508\n",
      "Iter: 97 Accuracy: 0.9926 Loss: 1.4685965\n",
      "Iter: 98 Accuracy: 0.9926 Loss: 1.468438\n",
      "Iter: 99 Accuracy: 0.9928 Loss: 1.468275\n"
     ]
    }
   ],
   "source": [
    "with tf.Session() as sess:\n",
    "    sess.run(init)\n",
    "    for epoch in range(100):\n",
    "        for batch in range(n_batchs):\n",
    "            batch_xs, batch_ys = mnist.train.next_batch(batch_size)\n",
    "            sess.run(train_step, {x: batch_xs, y:batch_ys, keep_prob:0.7})\n",
    "        acc, l = sess.run([accuracy, loss], {x:mnist.test.images, y:mnist.test.labels, keep_prob: 1.0})\n",
    "        print(\"Iter: \" + str(epoch) + \" Accuracy: \" + str(acc) + \" Loss: \"+ str(l) )"
   ]
  },
  {
   "cell_type": "code",
   "execution_count": null,
   "metadata": {},
   "outputs": [],
   "source": []
  }
 ],
 "metadata": {
  "kernelspec": {
   "display_name": "Python [conda env:tensorflow] *",
   "language": "python",
   "name": "conda-env-tensorflow-py"
  },
  "language_info": {
   "codemirror_mode": {
    "name": "ipython",
    "version": 3
   },
   "file_extension": ".py",
   "mimetype": "text/x-python",
   "name": "python",
   "nbconvert_exporter": "python",
   "pygments_lexer": "ipython3",
   "version": "3.6.10"
  }
 },
 "nbformat": 4,
 "nbformat_minor": 4
}
