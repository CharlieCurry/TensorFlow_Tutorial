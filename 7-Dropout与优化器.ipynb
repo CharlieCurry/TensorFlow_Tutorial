{
 "cells": [
  {
   "cell_type": "markdown",
   "metadata": {},
   "source": [
    "# Dropout与优化器"
   ]
  },
  {
   "cell_type": "markdown",
   "metadata": {},
   "source": [
    "Dropout类似于bagging的思想，用来防止模型的过拟合现象，不同的优化器对模型收敛的影响不同"
   ]
  },
  {
   "cell_type": "code",
   "execution_count": 1,
   "metadata": {},
   "outputs": [],
   "source": [
    "import tensorflow as tf\n",
    "from tensorflow.examples.tutorials.mnist import input_data"
   ]
  },
  {
   "cell_type": "code",
   "execution_count": 2,
   "metadata": {},
   "outputs": [
    {
     "name": "stdout",
     "output_type": "stream",
     "text": [
      "WARNING:tensorflow:From <ipython-input-2-c72d5080472c>:1: read_data_sets (from tensorflow.contrib.learn.python.learn.datasets.mnist) is deprecated and will be removed in a future version.\n",
      "Instructions for updating:\n",
      "Please use alternatives such as official/mnist/dataset.py from tensorflow/models.\n",
      "WARNING:tensorflow:From D:\\env\\anaconda\\envs\\tensorflow\\lib\\site-packages\\tensorflow\\contrib\\learn\\python\\learn\\datasets\\mnist.py:260: maybe_download (from tensorflow.contrib.learn.python.learn.datasets.base) is deprecated and will be removed in a future version.\n",
      "Instructions for updating:\n",
      "Please write your own downloading logic.\n",
      "WARNING:tensorflow:From D:\\env\\anaconda\\envs\\tensorflow\\lib\\site-packages\\tensorflow\\contrib\\learn\\python\\learn\\datasets\\mnist.py:262: extract_images (from tensorflow.contrib.learn.python.learn.datasets.mnist) is deprecated and will be removed in a future version.\n",
      "Instructions for updating:\n",
      "Please use tf.data to implement this functionality.\n",
      "Extracting MNIST\\train-images-idx3-ubyte.gz\n",
      "WARNING:tensorflow:From D:\\env\\anaconda\\envs\\tensorflow\\lib\\site-packages\\tensorflow\\contrib\\learn\\python\\learn\\datasets\\mnist.py:267: extract_labels (from tensorflow.contrib.learn.python.learn.datasets.mnist) is deprecated and will be removed in a future version.\n",
      "Instructions for updating:\n",
      "Please use tf.data to implement this functionality.\n",
      "Extracting MNIST\\train-labels-idx1-ubyte.gz\n",
      "WARNING:tensorflow:From D:\\env\\anaconda\\envs\\tensorflow\\lib\\site-packages\\tensorflow\\contrib\\learn\\python\\learn\\datasets\\mnist.py:110: dense_to_one_hot (from tensorflow.contrib.learn.python.learn.datasets.mnist) is deprecated and will be removed in a future version.\n",
      "Instructions for updating:\n",
      "Please use tf.one_hot on tensors.\n",
      "Extracting MNIST\\t10k-images-idx3-ubyte.gz\n",
      "Extracting MNIST\\t10k-labels-idx1-ubyte.gz\n",
      "WARNING:tensorflow:From D:\\env\\anaconda\\envs\\tensorflow\\lib\\site-packages\\tensorflow\\contrib\\learn\\python\\learn\\datasets\\mnist.py:290: DataSet.__init__ (from tensorflow.contrib.learn.python.learn.datasets.mnist) is deprecated and will be removed in a future version.\n",
      "Instructions for updating:\n",
      "Please use alternatives such as official/mnist/dataset.py from tensorflow/models.\n"
     ]
    }
   ],
   "source": [
    "mnist = input_data.read_data_sets(\"MNIST\",one_hot=True)"
   ]
  },
  {
   "cell_type": "code",
   "execution_count": 3,
   "metadata": {},
   "outputs": [],
   "source": [
    "batch_size = 50\n",
    "n_batchs = mnist.train.num_examples // batch_size"
   ]
  },
  {
   "cell_type": "code",
   "execution_count": 4,
   "metadata": {},
   "outputs": [
    {
     "data": {
      "text/plain": [
       "1100"
      ]
     },
     "execution_count": 4,
     "metadata": {},
     "output_type": "execute_result"
    }
   ],
   "source": [
    "n_batchs"
   ]
  },
  {
   "cell_type": "markdown",
   "metadata": {},
   "source": [
    "## 定义输入层\n",
    "\n",
    "两个数据的placeholder，一个dropout的参数"
   ]
  },
  {
   "cell_type": "code",
   "execution_count": 5,
   "metadata": {},
   "outputs": [],
   "source": [
    "x = tf.placeholder(shape=[None, 784], dtype=tf.float32)\n",
    "y = tf.placeholder(shape=[None, 10], dtype=tf.float32)\n",
    "keep_prob = tf.placeholder(tf.float32)"
   ]
  },
  {
   "cell_type": "code",
   "execution_count": 6,
   "metadata": {},
   "outputs": [
    {
     "data": {
      "text/plain": [
       "(<tf.Tensor 'Placeholder:0' shape=(?, 784) dtype=float32>,\n",
       " <tf.Tensor 'Placeholder_1:0' shape=(?, 10) dtype=float32>,\n",
       " <tf.Tensor 'Placeholder_2:0' shape=<unknown> dtype=float32>)"
      ]
     },
     "execution_count": 6,
     "metadata": {},
     "output_type": "execute_result"
    }
   ],
   "source": [
    "x,y,keep_prob"
   ]
  },
  {
   "cell_type": "markdown",
   "metadata": {},
   "source": [
    "## 定义隐藏层"
   ]
  },
  {
   "cell_type": "code",
   "execution_count": 7,
   "metadata": {},
   "outputs": [],
   "source": [
    "w1 = tf.Variable(tf.zeros([784,1024]))\n",
    "a1 = tf.nn.sigmoid(tf.matmul(x,w1))\n",
    "o1 = tf.nn.dropout(a1,keep_prob)"
   ]
  },
  {
   "cell_type": "code",
   "execution_count": 8,
   "metadata": {},
   "outputs": [
    {
     "data": {
      "text/plain": [
       "(<tf.Variable 'Variable:0' shape=(784, 1024) dtype=float32_ref>,\n",
       " <tf.Tensor 'Sigmoid:0' shape=(?, 1024) dtype=float32>,\n",
       " <tf.Tensor 'dropout/mul:0' shape=(?, 1024) dtype=float32>)"
      ]
     },
     "execution_count": 8,
     "metadata": {},
     "output_type": "execute_result"
    }
   ],
   "source": [
    "w1,a1,o1"
   ]
  },
  {
   "cell_type": "code",
   "execution_count": 9,
   "metadata": {},
   "outputs": [],
   "source": [
    "w2 = tf.Variable(tf.zeros([1024,512]))\n",
    "a2 = tf.nn.sigmoid(tf.matmul(o1,w2))\n",
    "o2 = tf.nn.dropout(a2,keep_prob)"
   ]
  },
  {
   "cell_type": "code",
   "execution_count": 10,
   "metadata": {},
   "outputs": [
    {
     "data": {
      "text/plain": [
       "(<tf.Variable 'Variable_1:0' shape=(1024, 512) dtype=float32_ref>,\n",
       " <tf.Tensor 'Sigmoid_1:0' shape=(?, 512) dtype=float32>,\n",
       " <tf.Tensor 'dropout_1/mul:0' shape=(?, 512) dtype=float32>)"
      ]
     },
     "execution_count": 10,
     "metadata": {},
     "output_type": "execute_result"
    }
   ],
   "source": [
    "w2,a2,o2"
   ]
  },
  {
   "cell_type": "code",
   "execution_count": 11,
   "metadata": {},
   "outputs": [],
   "source": [
    "w3 = tf.Variable(tf.zeros([512,128]))\n",
    "a3 = tf.nn.sigmoid(tf.matmul(o2,w3))\n",
    "o3 = tf.nn.dropout(a3,keep_prob)"
   ]
  },
  {
   "cell_type": "code",
   "execution_count": 12,
   "metadata": {},
   "outputs": [
    {
     "data": {
      "text/plain": [
       "(<tf.Variable 'Variable_2:0' shape=(512, 128) dtype=float32_ref>,\n",
       " <tf.Tensor 'Sigmoid_2:0' shape=(?, 128) dtype=float32>,\n",
       " <tf.Tensor 'dropout_2/mul:0' shape=(?, 128) dtype=float32>)"
      ]
     },
     "execution_count": 12,
     "metadata": {},
     "output_type": "execute_result"
    }
   ],
   "source": [
    "w3,a3,o3"
   ]
  },
  {
   "cell_type": "markdown",
   "metadata": {},
   "source": [
    "## 定义输出层"
   ]
  },
  {
   "cell_type": "code",
   "execution_count": 13,
   "metadata": {},
   "outputs": [],
   "source": [
    "w4 = tf.Variable(tf.zeros([128, 10]))\n",
    "prediction = tf.nn.softmax(tf.matmul(o3,w4))"
   ]
  },
  {
   "cell_type": "code",
   "execution_count": 14,
   "metadata": {},
   "outputs": [
    {
     "data": {
      "text/plain": [
       "(<tf.Variable 'Variable_3:0' shape=(128, 10) dtype=float32_ref>,\n",
       " <tf.Tensor 'Softmax:0' shape=(?, 10) dtype=float32>)"
      ]
     },
     "execution_count": 14,
     "metadata": {},
     "output_type": "execute_result"
    }
   ],
   "source": [
    "w4, prediction"
   ]
  },
  {
   "cell_type": "markdown",
   "metadata": {},
   "source": [
    "## 定义损失函数和优化器"
   ]
  },
  {
   "cell_type": "code",
   "execution_count": 15,
   "metadata": {},
   "outputs": [
    {
     "name": "stdout",
     "output_type": "stream",
     "text": [
      "WARNING:tensorflow:From <ipython-input-15-feee02dfe2b1>:1: softmax_cross_entropy_with_logits (from tensorflow.python.ops.nn_ops) is deprecated and will be removed in a future version.\n",
      "Instructions for updating:\n",
      "\n",
      "Future major versions of TensorFlow will allow gradients to flow\n",
      "into the labels input on backprop by default.\n",
      "\n",
      "See `tf.nn.softmax_cross_entropy_with_logits_v2`.\n",
      "\n"
     ]
    }
   ],
   "source": [
    "loss = tf.reduce_mean(tf.nn.softmax_cross_entropy_with_logits(logits=prediction, labels=y))\n",
    "train_step = tf.train.AdamOptimizer(0.001).minimize(loss)"
   ]
  },
  {
   "cell_type": "markdown",
   "metadata": {},
   "source": [
    "## 计算正确率"
   ]
  },
  {
   "cell_type": "code",
   "execution_count": 16,
   "metadata": {},
   "outputs": [],
   "source": [
    "correct_prediction = tf.equal(tf.argmax(prediction, 1), tf.argmax(y, 1))\n",
    "accuracy = tf.reduce_mean(tf.cast(correct_prediction, tf.float32))"
   ]
  },
  {
   "cell_type": "code",
   "execution_count": 17,
   "metadata": {},
   "outputs": [
    {
     "data": {
      "text/plain": [
       "(<tf.Tensor 'Equal:0' shape=(?,) dtype=bool>,\n",
       " <tf.Tensor 'Mean_1:0' shape=() dtype=float32>)"
      ]
     },
     "execution_count": 17,
     "metadata": {},
     "output_type": "execute_result"
    }
   ],
   "source": [
    "correct_prediction, accuracy"
   ]
  },
  {
   "cell_type": "markdown",
   "metadata": {},
   "source": [
    "## 初始化变量"
   ]
  },
  {
   "cell_type": "code",
   "execution_count": 18,
   "metadata": {},
   "outputs": [],
   "source": [
    "import os\n",
    "\n",
    "os.environ[\"CUDA_VISIBLE_DEVICES\"] = \"-1\""
   ]
  },
  {
   "cell_type": "code",
   "execution_count": 19,
   "metadata": {},
   "outputs": [],
   "source": [
    "init = tf.global_variables_initializer()"
   ]
  },
  {
   "cell_type": "code",
   "execution_count": 20,
   "metadata": {},
   "outputs": [
    {
     "name": "stdout",
     "output_type": "stream",
     "text": [
      "Iter:  0 Loss:  2.1350589 Accuracy:  0.318\n",
      "Iter:  1 Loss:  2.0367603 Accuracy:  0.4641\n",
      "Iter:  2 Loss:  1.600498 Accuracy:  0.9046\n",
      "Iter:  3 Loss:  1.5266411 Accuracy:  0.9355\n",
      "Iter:  4 Loss:  1.5152434 Accuracy:  0.946\n",
      "Iter:  5 Loss:  1.5085855 Accuracy:  0.9529\n",
      "Iter:  6 Loss:  1.5073667 Accuracy:  0.9536\n",
      "Iter:  7 Loss:  1.5028167 Accuracy:  0.9585\n",
      "Iter:  8 Loss:  1.4998456 Accuracy:  0.9617\n",
      "Iter:  9 Loss:  1.5011758 Accuracy:  0.9602\n",
      "Iter:  10 Loss:  1.4959947 Accuracy:  0.9654\n",
      "Iter:  11 Loss:  1.4951199 Accuracy:  0.9661\n",
      "Iter:  12 Loss:  1.4946299 Accuracy:  0.9668\n",
      "Iter:  13 Loss:  1.4935352 Accuracy:  0.9677\n",
      "Iter:  14 Loss:  1.4922739 Accuracy:  0.9688\n",
      "Iter:  15 Loss:  1.4937623 Accuracy:  0.9669\n",
      "Iter:  16 Loss:  1.4897847 Accuracy:  0.9718\n",
      "Iter:  17 Loss:  1.4907577 Accuracy:  0.9704\n",
      "Iter:  18 Loss:  1.490104 Accuracy:  0.9707\n",
      "Iter:  19 Loss:  1.4901439 Accuracy:  0.9712\n",
      "Iter:  20 Loss:  1.4893572 Accuracy:  0.9717\n",
      "Iter:  21 Loss:  1.4894102 Accuracy:  0.9715\n",
      "Iter:  22 Loss:  1.4869522 Accuracy:  0.9742\n",
      "Iter:  23 Loss:  1.4880034 Accuracy:  0.9733\n",
      "Iter:  24 Loss:  1.4874138 Accuracy:  0.9734\n",
      "Iter:  25 Loss:  1.4865279 Accuracy:  0.9744\n",
      "Iter:  26 Loss:  1.4868106 Accuracy:  0.9743\n",
      "Iter:  27 Loss:  1.4870437 Accuracy:  0.9739\n",
      "Iter:  28 Loss:  1.4855835 Accuracy:  0.9756\n",
      "Iter:  29 Loss:  1.4857713 Accuracy:  0.9753\n",
      "Iter:  30 Loss:  1.4883307 Accuracy:  0.9725\n",
      "Iter:  31 Loss:  1.4863774 Accuracy:  0.9746\n",
      "Iter:  32 Loss:  1.4841325 Accuracy:  0.9771\n",
      "Iter:  33 Loss:  1.4843667 Accuracy:  0.9769\n",
      "Iter:  34 Loss:  1.4845582 Accuracy:  0.9767\n",
      "Iter:  35 Loss:  1.4849786 Accuracy:  0.9761\n",
      "Iter:  36 Loss:  1.4837178 Accuracy:  0.9773\n",
      "Iter:  37 Loss:  1.4829831 Accuracy:  0.9783\n",
      "Iter:  38 Loss:  1.4845349 Accuracy:  0.9764\n",
      "Iter:  39 Loss:  1.4835765 Accuracy:  0.9775\n",
      "Iter:  40 Loss:  1.4841682 Accuracy:  0.977\n",
      "Iter:  41 Loss:  1.4840037 Accuracy:  0.9773\n",
      "Iter:  42 Loss:  1.4835335 Accuracy:  0.9774\n",
      "Iter:  43 Loss:  1.4844315 Accuracy:  0.9766\n",
      "Iter:  44 Loss:  1.4849759 Accuracy:  0.9762\n",
      "Iter:  45 Loss:  1.4832215 Accuracy:  0.9781\n",
      "Iter:  46 Loss:  1.4816042 Accuracy:  0.9793\n",
      "Iter:  47 Loss:  1.4826608 Accuracy:  0.9785\n",
      "Iter:  48 Loss:  1.4825697 Accuracy:  0.9783\n",
      "Iter:  49 Loss:  1.483165 Accuracy:  0.9779\n"
     ]
    }
   ],
   "source": [
    "with tf.Session() as sess:\n",
    "    sess.run(init)\n",
    "    for epoch in range(50):\n",
    "        for batch in range(n_batchs):\n",
    "            batch_x, batch_y = mnist.train.next_batch(batch_size)\n",
    "            sess.run([train_step], feed_dict={x:batch_x, y:batch_y, keep_prob:0.5})\n",
    "        acc, loss_value = sess.run([accuracy, loss], feed_dict= {x:mnist.test.images, y: mnist.test.labels, keep_prob:1.0})\n",
    "        print(\"Iter: \", epoch, \"Loss: \", loss_value, \"Accuracy: \", acc)"
   ]
  },
  {
   "cell_type": "code",
   "execution_count": null,
   "metadata": {},
   "outputs": [],
   "source": []
  },
  {
   "cell_type": "code",
   "execution_count": null,
   "metadata": {},
   "outputs": [],
   "source": []
  },
  {
   "cell_type": "code",
   "execution_count": null,
   "metadata": {},
   "outputs": [],
   "source": []
  },
  {
   "cell_type": "code",
   "execution_count": null,
   "metadata": {},
   "outputs": [],
   "source": []
  },
  {
   "cell_type": "code",
   "execution_count": null,
   "metadata": {},
   "outputs": [],
   "source": []
  },
  {
   "cell_type": "code",
   "execution_count": null,
   "metadata": {},
   "outputs": [],
   "source": []
  },
  {
   "cell_type": "code",
   "execution_count": null,
   "metadata": {},
   "outputs": [],
   "source": []
  },
  {
   "cell_type": "code",
   "execution_count": null,
   "metadata": {},
   "outputs": [],
   "source": []
  },
  {
   "cell_type": "code",
   "execution_count": null,
   "metadata": {},
   "outputs": [],
   "source": []
  },
  {
   "cell_type": "code",
   "execution_count": null,
   "metadata": {},
   "outputs": [],
   "source": []
  }
 ],
 "metadata": {
  "kernelspec": {
   "display_name": "Python [conda env:tensorflow] *",
   "language": "python",
   "name": "conda-env-tensorflow-py"
  },
  "language_info": {
   "codemirror_mode": {
    "name": "ipython",
    "version": 3
   },
   "file_extension": ".py",
   "mimetype": "text/x-python",
   "name": "python",
   "nbconvert_exporter": "python",
   "pygments_lexer": "ipython3",
   "version": "3.6.10"
  }
 },
 "nbformat": 4,
 "nbformat_minor": 4
}
