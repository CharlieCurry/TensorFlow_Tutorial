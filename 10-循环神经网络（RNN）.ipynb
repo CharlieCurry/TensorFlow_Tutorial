{
 "cells": [
  {
   "cell_type": "markdown",
   "metadata": {},
   "source": [
    "# 循环神经网络（RNN）"
   ]
  },
  {
   "cell_type": "markdown",
   "metadata": {},
   "source": [
    "循环神经网络（RNN）主要用于处理序列问题，针对时序建模，通过时间步递归（循环）来更新参数。"
   ]
  },
  {
   "cell_type": "markdown",
   "metadata": {},
   "source": [
    "导包"
   ]
  },
  {
   "cell_type": "code",
   "execution_count": 1,
   "metadata": {},
   "outputs": [],
   "source": [
    "import tensorflow as tf\n",
    "from tensorflow.examples.tutorials.mnist import input_data"
   ]
  },
  {
   "cell_type": "markdown",
   "metadata": {},
   "source": [
    "载入数据"
   ]
  },
  {
   "cell_type": "code",
   "execution_count": 2,
   "metadata": {},
   "outputs": [
    {
     "name": "stdout",
     "output_type": "stream",
     "text": [
      "WARNING:tensorflow:From <ipython-input-2-7ad1921416f6>:1: read_data_sets (from tensorflow.contrib.learn.python.learn.datasets.mnist) is deprecated and will be removed in a future version.\n",
      "Instructions for updating:\n",
      "Please use alternatives such as official/mnist/dataset.py from tensorflow/models.\n",
      "WARNING:tensorflow:From D:\\env\\anaconda\\envs\\tensorflow\\lib\\site-packages\\tensorflow\\contrib\\learn\\python\\learn\\datasets\\mnist.py:260: maybe_download (from tensorflow.contrib.learn.python.learn.datasets.base) is deprecated and will be removed in a future version.\n",
      "Instructions for updating:\n",
      "Please write your own downloading logic.\n",
      "WARNING:tensorflow:From D:\\env\\anaconda\\envs\\tensorflow\\lib\\site-packages\\tensorflow\\contrib\\learn\\python\\learn\\datasets\\mnist.py:262: extract_images (from tensorflow.contrib.learn.python.learn.datasets.mnist) is deprecated and will be removed in a future version.\n",
      "Instructions for updating:\n",
      "Please use tf.data to implement this functionality.\n",
      "Extracting MNIST\\train-images-idx3-ubyte.gz\n",
      "WARNING:tensorflow:From D:\\env\\anaconda\\envs\\tensorflow\\lib\\site-packages\\tensorflow\\contrib\\learn\\python\\learn\\datasets\\mnist.py:267: extract_labels (from tensorflow.contrib.learn.python.learn.datasets.mnist) is deprecated and will be removed in a future version.\n",
      "Instructions for updating:\n",
      "Please use tf.data to implement this functionality.\n",
      "Extracting MNIST\\train-labels-idx1-ubyte.gz\n",
      "WARNING:tensorflow:From D:\\env\\anaconda\\envs\\tensorflow\\lib\\site-packages\\tensorflow\\contrib\\learn\\python\\learn\\datasets\\mnist.py:110: dense_to_one_hot (from tensorflow.contrib.learn.python.learn.datasets.mnist) is deprecated and will be removed in a future version.\n",
      "Instructions for updating:\n",
      "Please use tf.one_hot on tensors.\n",
      "Extracting MNIST\\t10k-images-idx3-ubyte.gz\n",
      "Extracting MNIST\\t10k-labels-idx1-ubyte.gz\n",
      "WARNING:tensorflow:From D:\\env\\anaconda\\envs\\tensorflow\\lib\\site-packages\\tensorflow\\contrib\\learn\\python\\learn\\datasets\\mnist.py:290: DataSet.__init__ (from tensorflow.contrib.learn.python.learn.datasets.mnist) is deprecated and will be removed in a future version.\n",
      "Instructions for updating:\n",
      "Please use alternatives such as official/mnist/dataset.py from tensorflow/models.\n"
     ]
    }
   ],
   "source": [
    "mnist = input_data.read_data_sets(\"MNIST\", one_hot=True)"
   ]
  },
  {
   "cell_type": "markdown",
   "metadata": {},
   "source": [
    "超参数设置"
   ]
  },
  {
   "cell_type": "code",
   "execution_count": 3,
   "metadata": {},
   "outputs": [],
   "source": [
    "n_inputs = 28  # 每个输入的维度\n",
    "max_times = 28 # 序列的最大输入步数\n",
    "lstm_size = 100 # LSTM的hidden_dim（可认为是RNN）\n",
    "n_classes = 10 # 类别\n",
    "batch_size = 32\n",
    "n_batchs = mnist.train.num_examples // batch_size"
   ]
  },
  {
   "cell_type": "markdown",
   "metadata": {},
   "source": [
    "定义placeholder"
   ]
  },
  {
   "cell_type": "code",
   "execution_count": 4,
   "metadata": {},
   "outputs": [],
   "source": [
    "x = tf.placeholder(tf.float32, [None, 784])\n",
    "y = tf.placeholder(tf.float32, [None, 10])"
   ]
  },
  {
   "cell_type": "markdown",
   "metadata": {},
   "source": [
    "初始化网络的权值和偏置值"
   ]
  },
  {
   "cell_type": "code",
   "execution_count": 5,
   "metadata": {},
   "outputs": [],
   "source": [
    "weights = tf.Variable(tf.truncated_normal([lstm_size, n_classes], stddev=0.1))\n",
    "biases = tf.Variable(tf.constant(0.1,shape=[n_classes]))"
   ]
  },
  {
   "cell_type": "markdown",
   "metadata": {},
   "source": [
    "定义RNN网络"
   ]
  },
  {
   "cell_type": "code",
   "execution_count": 6,
   "metadata": {},
   "outputs": [],
   "source": [
    "def RNN(x, w, b):\n",
    "    inputs = tf.reshape(x, [-1, max_times, n_inputs])\n",
    "    lstm_cell = tf.contrib.rnn.BasicLSTMCell(lstm_size)\n",
    "    output, final_state = tf.nn.dynamic_rnn(lstm_cell, inputs, dtype=tf.float32)\n",
    "    result = tf.nn.softmax(tf.matmul(final_state[1], w) + b)\n",
    "    return result"
   ]
  },
  {
   "cell_type": "code",
   "execution_count": 7,
   "metadata": {},
   "outputs": [
    {
     "name": "stdout",
     "output_type": "stream",
     "text": [
      "WARNING:tensorflow:From <ipython-input-6-c8c83ed639c4>:3: BasicLSTMCell.__init__ (from tensorflow.python.ops.rnn_cell_impl) is deprecated and will be removed in a future version.\n",
      "Instructions for updating:\n",
      "This class is deprecated, please use tf.nn.rnn_cell.LSTMCell, which supports all the feature this cell currently has. Please replace the existing code with tf.nn.rnn_cell.LSTMCell(name='basic_lstm_cell').\n"
     ]
    }
   ],
   "source": [
    "prediction = RNN(x, weights, biases)"
   ]
  },
  {
   "cell_type": "code",
   "execution_count": 8,
   "metadata": {},
   "outputs": [
    {
     "data": {
      "text/plain": [
       "<tf.Tensor 'Softmax:0' shape=(?, 10) dtype=float32>"
      ]
     },
     "execution_count": 8,
     "metadata": {},
     "output_type": "execute_result"
    }
   ],
   "source": [
    "prediction"
   ]
  },
  {
   "cell_type": "markdown",
   "metadata": {},
   "source": [
    "定义损失函数与优化器"
   ]
  },
  {
   "cell_type": "code",
   "execution_count": 9,
   "metadata": {},
   "outputs": [
    {
     "name": "stdout",
     "output_type": "stream",
     "text": [
      "WARNING:tensorflow:From <ipython-input-9-f9d8e4803ff3>:1: softmax_cross_entropy_with_logits (from tensorflow.python.ops.nn_ops) is deprecated and will be removed in a future version.\n",
      "Instructions for updating:\n",
      "\n",
      "Future major versions of TensorFlow will allow gradients to flow\n",
      "into the labels input on backprop by default.\n",
      "\n",
      "See `tf.nn.softmax_cross_entropy_with_logits_v2`.\n",
      "\n"
     ]
    }
   ],
   "source": [
    "loss = tf.reduce_mean(tf.nn.softmax_cross_entropy_with_logits(logits=prediction, labels=y))\n",
    "train_step = tf.train.AdamOptimizer(1e-4).minimize(loss)"
   ]
  },
  {
   "cell_type": "markdown",
   "metadata": {},
   "source": [
    "获取测评结果"
   ]
  },
  {
   "cell_type": "code",
   "execution_count": 10,
   "metadata": {},
   "outputs": [],
   "source": [
    "correct_prediction = tf.equal(tf.argmax(prediction, 1), tf.argmax(y, 1))\n",
    "accuracy = tf.reduce_mean(tf.cast(correct_prediction, tf.float32))"
   ]
  },
  {
   "cell_type": "markdown",
   "metadata": {},
   "source": [
    "初始化计算图中的变量"
   ]
  },
  {
   "cell_type": "code",
   "execution_count": 11,
   "metadata": {},
   "outputs": [],
   "source": [
    "init = tf.global_variables_initializer()"
   ]
  },
  {
   "cell_type": "markdown",
   "metadata": {},
   "source": [
    "训练"
   ]
  },
  {
   "cell_type": "code",
   "execution_count": 12,
   "metadata": {},
   "outputs": [
    {
     "name": "stdout",
     "output_type": "stream",
     "text": [
      "Iter: 0 Accurcay: 0.6886 Loss: 1.7902172\n",
      "Iter: 1 Accurcay: 0.8666 Loss: 1.6122726\n",
      "Iter: 2 Accurcay: 0.8968 Loss: 1.5742496\n",
      "Iter: 3 Accurcay: 0.904 Loss: 1.5643972\n",
      "Iter: 4 Accurcay: 0.9218 Loss: 1.5438911\n",
      "Iter: 5 Accurcay: 0.9164 Loss: 1.5482888\n",
      "Iter: 6 Accurcay: 0.9384 Loss: 1.5268714\n",
      "Iter: 7 Accurcay: 0.9411 Loss: 1.522517\n",
      "Iter: 8 Accurcay: 0.9393 Loss: 1.523651\n",
      "Iter: 9 Accurcay: 0.9413 Loss: 1.5224088\n",
      "Iter: 10 Accurcay: 0.9497 Loss: 1.513757\n",
      "Iter: 11 Accurcay: 0.9494 Loss: 1.5135676\n",
      "Iter: 12 Accurcay: 0.954 Loss: 1.5089195\n",
      "Iter: 13 Accurcay: 0.9517 Loss: 1.5130067\n",
      "Iter: 14 Accurcay: 0.9557 Loss: 1.5070109\n",
      "Iter: 15 Accurcay: 0.9626 Loss: 1.5008607\n",
      "Iter: 16 Accurcay: 0.9612 Loss: 1.5014473\n",
      "Iter: 17 Accurcay: 0.962 Loss: 1.5004807\n",
      "Iter: 18 Accurcay: 0.9588 Loss: 1.5045336\n",
      "Iter: 19 Accurcay: 0.9609 Loss: 1.5017827\n",
      "Iter: 20 Accurcay: 0.9618 Loss: 1.5005152\n",
      "Iter: 21 Accurcay: 0.9623 Loss: 1.5004354\n",
      "Iter: 22 Accurcay: 0.9667 Loss: 1.4953132\n",
      "Iter: 23 Accurcay: 0.9704 Loss: 1.4923708\n",
      "Iter: 24 Accurcay: 0.9679 Loss: 1.4948629\n",
      "Iter: 25 Accurcay: 0.9701 Loss: 1.4923197\n",
      "Iter: 26 Accurcay: 0.9686 Loss: 1.4937769\n",
      "Iter: 27 Accurcay: 0.9691 Loss: 1.493039\n",
      "Iter: 28 Accurcay: 0.9689 Loss: 1.492772\n",
      "Iter: 29 Accurcay: 0.9717 Loss: 1.4905111\n",
      "Iter: 30 Accurcay: 0.9716 Loss: 1.4901866\n",
      "Iter: 31 Accurcay: 0.9732 Loss: 1.488588\n",
      "Iter: 32 Accurcay: 0.9687 Loss: 1.4929142\n",
      "Iter: 33 Accurcay: 0.9724 Loss: 1.4894588\n",
      "Iter: 34 Accurcay: 0.9749 Loss: 1.4870554\n",
      "Iter: 35 Accurcay: 0.9754 Loss: 1.4869299\n",
      "Iter: 36 Accurcay: 0.9767 Loss: 1.485289\n",
      "Iter: 37 Accurcay: 0.9717 Loss: 1.4904779\n",
      "Iter: 38 Accurcay: 0.9763 Loss: 1.4856138\n",
      "Iter: 39 Accurcay: 0.9701 Loss: 1.4918002\n",
      "Iter: 40 Accurcay: 0.9759 Loss: 1.4867178\n",
      "Iter: 41 Accurcay: 0.9773 Loss: 1.4847033\n",
      "Iter: 42 Accurcay: 0.9772 Loss: 1.4847648\n",
      "Iter: 43 Accurcay: 0.9692 Loss: 1.4920917\n",
      "Iter: 44 Accurcay: 0.9731 Loss: 1.4884375\n",
      "Iter: 45 Accurcay: 0.9771 Loss: 1.4842098\n",
      "Iter: 46 Accurcay: 0.9737 Loss: 1.4876367\n",
      "Iter: 47 Accurcay: 0.9758 Loss: 1.4860018\n",
      "Iter: 48 Accurcay: 0.9758 Loss: 1.4863305\n",
      "Iter: 49 Accurcay: 0.9788 Loss: 1.4836358\n",
      "Iter: 50 Accurcay: 0.9769 Loss: 1.4845307\n",
      "Iter: 51 Accurcay: 0.9754 Loss: 1.4864343\n",
      "Iter: 52 Accurcay: 0.9777 Loss: 1.4834744\n",
      "Iter: 53 Accurcay: 0.9791 Loss: 1.4826976\n",
      "Iter: 54 Accurcay: 0.9773 Loss: 1.4841278\n",
      "Iter: 55 Accurcay: 0.9782 Loss: 1.483873\n",
      "Iter: 56 Accurcay: 0.9776 Loss: 1.4842951\n",
      "Iter: 57 Accurcay: 0.9788 Loss: 1.4828697\n",
      "Iter: 58 Accurcay: 0.9781 Loss: 1.4833971\n",
      "Iter: 59 Accurcay: 0.9752 Loss: 1.4863882\n",
      "Iter: 60 Accurcay: 0.977 Loss: 1.4847238\n",
      "Iter: 61 Accurcay: 0.9768 Loss: 1.4846134\n",
      "Iter: 62 Accurcay: 0.9793 Loss: 1.4824332\n",
      "Iter: 63 Accurcay: 0.9794 Loss: 1.4822083\n",
      "Iter: 64 Accurcay: 0.9786 Loss: 1.4830432\n",
      "Iter: 65 Accurcay: 0.9781 Loss: 1.483852\n",
      "Iter: 66 Accurcay: 0.9788 Loss: 1.4820579\n",
      "Iter: 67 Accurcay: 0.9786 Loss: 1.4828403\n",
      "Iter: 68 Accurcay: 0.9795 Loss: 1.4819064\n",
      "Iter: 69 Accurcay: 0.9741 Loss: 1.4872117\n",
      "Iter: 70 Accurcay: 0.9787 Loss: 1.4822094\n",
      "Iter: 71 Accurcay: 0.979 Loss: 1.4828299\n",
      "Iter: 72 Accurcay: 0.9798 Loss: 1.482258\n",
      "Iter: 73 Accurcay: 0.9789 Loss: 1.4827019\n",
      "Iter: 74 Accurcay: 0.9792 Loss: 1.4824245\n",
      "Iter: 75 Accurcay: 0.9794 Loss: 1.4819398\n",
      "Iter: 76 Accurcay: 0.9729 Loss: 1.4888422\n",
      "Iter: 77 Accurcay: 0.9796 Loss: 1.4824271\n",
      "Iter: 78 Accurcay: 0.9809 Loss: 1.4806973\n",
      "Iter: 79 Accurcay: 0.9787 Loss: 1.483013\n",
      "Iter: 80 Accurcay: 0.9795 Loss: 1.4820744\n",
      "Iter: 81 Accurcay: 0.9796 Loss: 1.481846\n",
      "Iter: 82 Accurcay: 0.982 Loss: 1.4800123\n",
      "Iter: 83 Accurcay: 0.9764 Loss: 1.485375\n",
      "Iter: 84 Accurcay: 0.9805 Loss: 1.4811317\n",
      "Iter: 85 Accurcay: 0.9774 Loss: 1.4841257\n",
      "Iter: 86 Accurcay: 0.9812 Loss: 1.4800222\n",
      "Iter: 87 Accurcay: 0.9819 Loss: 1.479795\n",
      "Iter: 88 Accurcay: 0.9812 Loss: 1.4804927\n",
      "Iter: 89 Accurcay: 0.9815 Loss: 1.4800016\n",
      "Iter: 90 Accurcay: 0.974 Loss: 1.4871943\n",
      "Iter: 91 Accurcay: 0.982 Loss: 1.4793717\n",
      "Iter: 92 Accurcay: 0.9797 Loss: 1.4812257\n",
      "Iter: 93 Accurcay: 0.9822 Loss: 1.4799883\n",
      "Iter: 94 Accurcay: 0.9811 Loss: 1.4802669\n",
      "Iter: 95 Accurcay: 0.9808 Loss: 1.4801689\n",
      "Iter: 96 Accurcay: 0.9811 Loss: 1.4804673\n",
      "Iter: 97 Accurcay: 0.9813 Loss: 1.4801855\n",
      "Iter: 98 Accurcay: 0.9791 Loss: 1.4821947\n",
      "Iter: 99 Accurcay: 0.9796 Loss: 1.4812996\n"
     ]
    }
   ],
   "source": [
    "with tf.Session() as sess:\n",
    "    sess.run(init)\n",
    "    for epc in range(100):\n",
    "        for batch in range(n_batchs):\n",
    "            batch_xs, batch_ys = mnist.train.next_batch(batch_size)\n",
    "            sess.run([train_step],{x:batch_xs, y:batch_ys})\n",
    "        acc, l = sess.run([accuracy, loss], {x:mnist.test.images, y:mnist.test.labels})\n",
    "        print(\"Iter: \" +str(epc) + \" Accurcay: \" + str(acc) + \" Loss: \" + str(l))"
   ]
  },
  {
   "cell_type": "code",
   "execution_count": null,
   "metadata": {},
   "outputs": [],
   "source": []
  },
  {
   "cell_type": "code",
   "execution_count": null,
   "metadata": {},
   "outputs": [],
   "source": []
  },
  {
   "cell_type": "code",
   "execution_count": null,
   "metadata": {},
   "outputs": [],
   "source": []
  },
  {
   "cell_type": "code",
   "execution_count": null,
   "metadata": {},
   "outputs": [],
   "source": []
  },
  {
   "cell_type": "code",
   "execution_count": null,
   "metadata": {},
   "outputs": [],
   "source": []
  },
  {
   "cell_type": "code",
   "execution_count": null,
   "metadata": {},
   "outputs": [],
   "source": []
  },
  {
   "cell_type": "code",
   "execution_count": null,
   "metadata": {},
   "outputs": [],
   "source": []
  },
  {
   "cell_type": "code",
   "execution_count": null,
   "metadata": {},
   "outputs": [],
   "source": []
  },
  {
   "cell_type": "code",
   "execution_count": null,
   "metadata": {},
   "outputs": [],
   "source": []
  },
  {
   "cell_type": "code",
   "execution_count": null,
   "metadata": {},
   "outputs": [],
   "source": []
  },
  {
   "cell_type": "code",
   "execution_count": null,
   "metadata": {},
   "outputs": [],
   "source": []
  }
 ],
 "metadata": {
  "kernelspec": {
   "display_name": "Python [conda env:tensorflow] *",
   "language": "python",
   "name": "conda-env-tensorflow-py"
  },
  "language_info": {
   "codemirror_mode": {
    "name": "ipython",
    "version": 3
   },
   "file_extension": ".py",
   "mimetype": "text/x-python",
   "name": "python",
   "nbconvert_exporter": "python",
   "pygments_lexer": "ipython3",
   "version": "3.6.10"
  }
 },
 "nbformat": 4,
 "nbformat_minor": 4
}
